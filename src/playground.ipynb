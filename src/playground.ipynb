{
 "cells": [
  {
   "cell_type": "code",
   "execution_count": 3,
   "metadata": {},
   "outputs": [],
   "source": [
    "from lyra import cds_collections"
   ]
  },
  {
   "cell_type": "code",
   "execution_count": 4,
   "metadata": {},
   "outputs": [
    {
     "name": "stdout",
     "output_type": "stream",
     "text": [
      "reanalysis-era5-single-levels {'download_format': 'unarchived', 'product_type': ['reanalysis'], 'variable': ['2m_temperature'], 'year': ['2020'], 'month': ['01'], 'day': ['01'], 'time': ['12:00'], 'area': ['global'], 'format': 'netcdf'}\n"
     ]
    },
    {
     "name": "stderr",
     "output_type": "stream",
     "text": [
      "2024-11-17 20:28:54,950 WARNING [2024-10-10T00:00:00] The final validated ERA5 differs from ERA5T from July 2024 until further notice - please refer to our\n",
      "[Forum announcement](https://forum.ecmwf.int/t/final-validated-era5-product-to-differ-from-era5t-in-july-2024/6685)\n",
      "for details and watch it for further updates on this.\n",
      "2024-11-17 20:28:54,951 INFO Request ID is 4040d57e-4b38-4592-97b6-9950ba187508\n",
      "2024-11-17 20:28:55,249 INFO status has been updated to accepted\n",
      "2024-11-17 20:29:00,923 INFO status has been updated to running\n",
      "2024-11-17 20:29:05,889 INFO status has been updated to successful\n"
     ]
    },
    {
     "data": {
      "application/vnd.jupyter.widget-view+json": {
       "model_id": "91f87ba114994411bc5474a383ae9dbb",
       "version_major": 2,
       "version_minor": 0
      },
      "text/plain": [
       "55ff5d3a0d70fa7c784b73c4089e9d6b.nc:   0%|          | 0.00/1.46M [00:00<?, ?B/s]"
      ]
     },
     "metadata": {},
     "output_type": "display_data"
    }
   ],
   "source": [
    "cds_collections.reanalysis_era5_single_levels.download(\n",
    "    product_type = \"reanalysis\",\n",
    "    data_format  = \"netcdf\",\n",
    "    variable     = \"2m_temperature\",\n",
    "    year         = \"2020\",\n",
    "    month        = \"01\",\n",
    "    day          = \"01\",\n",
    "    time         = \"12:00\",\n",
    ")"
   ]
  }
 ],
 "metadata": {
  "kernelspec": {
   "display_name": "Python 3",
   "language": "python",
   "name": "python3"
  },
  "language_info": {
   "codemirror_mode": {
    "name": "ipython",
    "version": 3
   },
   "file_extension": ".py",
   "mimetype": "text/x-python",
   "name": "python",
   "nbconvert_exporter": "python",
   "pygments_lexer": "ipython3",
   "version": "3.10.12"
  }
 },
 "nbformat": 4,
 "nbformat_minor": 2
}
