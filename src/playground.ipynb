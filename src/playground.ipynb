{
 "cells": [
  {
   "cell_type": "code",
   "execution_count": 5,
   "metadata": {},
   "outputs": [
    {
     "data": {
      "text/plain": [
       "['variable: str',\n",
       " 'spatial_aggregation: str',\n",
       " 'energy_product_type: str',\n",
       " 'temporal_aggregation: str',\n",
       " 'experiment: str',\n",
       " 'rcm: str',\n",
       " 'gcm: str',\n",
       " 'ensemble_member: str']"
      ]
     },
     "execution_count": 5,
     "metadata": {},
     "output_type": "execute_result"
    }
   ],
   "source": [
    "from lyra import Client\n",
    "from lyra.parser import parse_form\n",
    "from lyra.transformer.transformer import transform_form\n",
    "\n",
    "from fundar import json\n",
    "from glob import glob\n",
    "from tqdm.auto import tqdm\n",
    "\n",
    "forms = glob('../data/*-form.json')\n",
    "\n",
    "form = forms[0]\n",
    "\n",
    "ast = parse_form(json.load(form))\n",
    "transform_form(ast)"
   ]
  }
 ],
 "metadata": {
  "kernelspec": {
   "display_name": "Python 3",
   "language": "python",
   "name": "python3"
  },
  "language_info": {
   "codemirror_mode": {
    "name": "ipython",
    "version": 3
   },
   "file_extension": ".py",
   "mimetype": "text/x-python",
   "name": "python",
   "nbconvert_exporter": "python",
   "pygments_lexer": "ipython3",
   "version": "3.10.12"
  }
 },
 "nbformat": 4,
 "nbformat_minor": 2
}
