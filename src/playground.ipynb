{
 "cells": [
  {
   "cell_type": "code",
   "execution_count": 4,
   "metadata": {},
   "outputs": [],
   "source": [
    "from lyra import Client\n",
    "from lyra.parser import parse_form\n",
    "from lyra.transformer.transformer import transform_form\n",
    "from IPython.display import display, Markdown\n",
    "\n",
    "from fundar import json\n",
    "from glob import glob\n",
    "from tqdm.auto import tqdm\n",
    "\n",
    "forms = glob('../data/*-form.json')\n",
    "\n",
    "def display_markdown(md):\n",
    "    display(Markdown(md))\n",
    "\n",
    "with open('output.py', 'w') as f:\n",
    "    f.write('# type: ignore\\n\\n')\n",
    "    f.write('from lyra.common import OneOrMore\\n\\n')\n",
    "    f.write('def download_data(*args, **kwargs): ...\\n\\n')\n",
    "    for form in forms:\n",
    "        ast = parse_form(json.load(form))\n",
    "        collection_name = form.split('-form')[0].rsplit('/')[-1]\n",
    "        display_str = [\n",
    "            #  '```python\\n'\n",
    "            '# dataset: '\n",
    "            , collection_name\n",
    "            , f'\\ndef download_{collection_name.replace(\"-\", \"_\")}('\n",
    "        ]\n",
    "\n",
    "        transformed_ast = transform_form(ast)\n",
    "        display_str.append(', '.join(str(x) for x in transformed_ast))\n",
    "                        \n",
    "        display_str.append('):')\n",
    "\n",
    "        for p in transformed_ast:\n",
    "            name = p.name\n",
    "            valid_values = p.valid_values\n",
    "\n",
    "            if not valid_values:\n",
    "                continue\n",
    "\n",
    "            valid_values = repr(valid_values)\n",
    "\n",
    "            display_str += [\n",
    "                # _valid_values = {valid_values}\n",
    "                f'\\n\\t{name}_valid_values = {valid_values}'\n",
    "                # assert {name} in {name}_valid_values\n",
    "                , f'\\n\\tassert {name} in {name}_valid_values\\n'\n",
    "            ]\n",
    "\n",
    "\n",
    "        display_str.append(\n",
    "            \"\\n\\treturn download_data(\" + ', '.join(str(x.name) for x in transformed_ast) + \")\\n\"\n",
    "        )\n",
    "\n",
    "        display_str.append('\\n\\n')\n",
    "        #display_str.append('\\n```')\n",
    "\n",
    "        f.write(''.join(display_str))"
   ]
  },
  {
   "cell_type": "code",
   "execution_count": null,
   "metadata": {},
   "outputs": [],
   "source": []
  }
 ],
 "metadata": {
  "kernelspec": {
   "display_name": "Python 3",
   "language": "python",
   "name": "python3"
  },
  "language_info": {
   "codemirror_mode": {
    "name": "ipython",
    "version": 3
   },
   "file_extension": ".py",
   "mimetype": "text/x-python",
   "name": "python",
   "nbconvert_exporter": "python",
   "pygments_lexer": "ipython3",
   "version": "3.10.12"
  }
 },
 "nbformat": 4,
 "nbformat_minor": 2
}
