{
 "cells": [
  {
   "cell_type": "code",
   "execution_count": 37,
   "metadata": {},
   "outputs": [
    {
     "data": {
      "text/markdown": [
       "```python\n",
       "# dataset: sis-energy-derived-projections\n",
       "def download(variable: str, spatial_aggregation: str, energy_product_type: str, temporal_aggregation: str, experiment: str, rcm: str, gcm: str, ensemble_member: str):\n",
       "```"
      ],
      "text/plain": [
       "<IPython.core.display.Markdown object>"
      ]
     },
     "metadata": {},
     "output_type": "display_data"
    },
    {
     "data": {
      "text/markdown": [
       "```python\n",
       "# dataset: satellite-lake-water-level\n",
       "def download(variable: str = 'all', region: str, lake: str):\n",
       "```"
      ],
      "text/plain": [
       "<IPython.core.display.Markdown object>"
      ]
     },
     "metadata": {},
     "output_type": "display_data"
    },
    {
     "data": {
      "text/markdown": [
       "```python\n",
       "# dataset: satellite-lake-water-temperature\n",
       "def download(variable: str = 'all', year: str, month: str, day: str, version: str):\n",
       "```"
      ],
      "text/plain": [
       "<IPython.core.display.Markdown object>"
      ]
     },
     "metadata": {},
     "output_type": "display_data"
    },
    {
     "data": {
      "text/markdown": [
       "```python\n",
       "# dataset: multi-origin-c3s-atlas\n",
       "def download(origin: str, experiment: str, domain: str, period: str, variable: str, area_group: Union[FreeEditionType, GeographicExtentType] = 'global'):\n",
       "```"
      ],
      "text/plain": [
       "<IPython.core.display.Markdown object>"
      ]
     },
     "metadata": {},
     "output_type": "display_data"
    },
    {
     "data": {
      "text/markdown": [
       "```python\n",
       "# dataset: seasonal-postprocessed-single-levels\n",
       "def download(originating_centre: str, system: str, variable: str, product_type: str, year: str, month: str, leadtime_month: str, area_group: Union[FreeEditionType, GeographicExtentType] = 'global', data_format: str = 'grib'):\n",
       "```"
      ],
      "text/plain": [
       "<IPython.core.display.Markdown object>"
      ]
     },
     "metadata": {},
     "output_type": "display_data"
    },
    {
     "data": {
      "text/markdown": [
       "```python\n",
       "# dataset: satellite-ice-sheet-mass-balance\n",
       "def download(variable: str = 'all'):\n",
       "```"
      ],
      "text/plain": [
       "<IPython.core.display.Markdown object>"
      ]
     },
     "metadata": {},
     "output_type": "display_data"
    },
    {
     "data": {
      "text/markdown": [
       "```python\n",
       "# dataset: satellite-soil-moisture\n",
       "def download(variable: str, type_of_sensor: str, time_aggregation: str, year: str, month: str, day: str, type_of_record: str, version: str):\n",
       "```"
      ],
      "text/plain": [
       "<IPython.core.display.Markdown object>"
      ]
     },
     "metadata": {},
     "output_type": "display_data"
    },
    {
     "data": {
      "text/markdown": [
       "```python\n",
       "# dataset: insitu-gridded-observations-alpine-precipitation\n",
       "def download(variable: str = 'precipitation', dataset_issue: str, version: str = '1.2'):\n",
       "```"
      ],
      "text/plain": [
       "<IPython.core.display.Markdown object>"
      ]
     },
     "metadata": {},
     "output_type": "display_data"
    },
    {
     "data": {
      "text/markdown": [
       "```python\n",
       "# dataset: reanalysis-cerra-model-levels\n",
       "def download(variable: str, model_level: str, data_type: str, year: str, month: str, day: str, time: str, data_format: str = 'grib'):\n",
       "```"
      ],
      "text/plain": [
       "<IPython.core.display.Markdown object>"
      ]
     },
     "metadata": {},
     "output_type": "display_data"
    },
    {
     "data": {
      "text/markdown": [
       "```python\n",
       "# dataset: reanalysis-uerra-europe-single-levels\n",
       "def download(origin: str, variable: str, year: str, month: str, day: str, time: str, data_format: str = 'grib'):\n",
       "```"
      ],
      "text/plain": [
       "<IPython.core.display.Markdown object>"
      ]
     },
     "metadata": {},
     "output_type": "display_data"
    },
    {
     "data": {
      "text/markdown": [
       "```python\n",
       "# dataset: insitu-observations-near-surface-temperature-us-climate-reference-network\n",
       "def download(time_aggregation: str, variable: str, year: str, month: str, day: str, area_group: Union[FreeEditionType, GeographicExtentType] = 'global', format: str):\n",
       "```"
      ],
      "text/plain": [
       "<IPython.core.display.Markdown object>"
      ]
     },
     "metadata": {},
     "output_type": "display_data"
    },
    {
     "data": {
      "text/markdown": [
       "```python\n",
       "# dataset: seasonal-original-pressure-levels\n",
       "def download(originating_centre: str, system: str, variable: str, pressure_level: str, year: str, month: str, day: str, leadtime_hour: str, area_group: Union[FreeEditionType, GeographicExtentType] = 'global', data_format: str = 'grib'):\n",
       "```"
      ],
      "text/plain": [
       "<IPython.core.display.Markdown object>"
      ]
     },
     "metadata": {},
     "output_type": "display_data"
    },
    {
     "data": {
      "text/markdown": [
       "```python\n",
       "# dataset: satellite-albedo\n",
       "def download(variable: str, satellite: str, sensor: str, product_version: str, horizontal_resolution: str, year: str, month: str, nominal_day: str, MissingTransformer(transformer_name='GeographicExtentMapWidgetTransformer', data=GeographicExtentMapWidget(label='Sub-region extraction', name='area', required=False, range={'e': 180, 'n': 90, 's': -90, 'w': -180}, default=[90, -180, -90, 180], precision=2, fullheight=True, wrapping=True)), MissingTransformer(transformer_name='ExclusiveFrameWidgetTransformer', data=ExclusiveFrameWidget(label='Geographical area', widgets=['global', 'area'], required=True, id=None)), MissingTransformer(transformer_name='LabelWidgetTransformer', data=LabelWidget(label='Whole available region', name='global', required=True, accordion='False,', information='With this option selected the entire available area will be provided'))):\n",
       "```"
      ],
      "text/plain": [
       "<IPython.core.display.Markdown object>"
      ]
     },
     "metadata": {},
     "output_type": "display_data"
    },
    {
     "data": {
      "text/markdown": [
       "```python\n",
       "# dataset: satellite-upper-troposphere-humidity\n",
       "def download(sensor_on_satellite: str, year: str, month: str, day: str, variable: str = 'all', area_group: Union[FreeEditionType, GeographicExtentType] = 'global'):\n",
       "```"
      ],
      "text/plain": [
       "<IPython.core.display.Markdown object>"
      ]
     },
     "metadata": {},
     "output_type": "display_data"
    },
    {
     "data": {
      "text/markdown": [
       "```python\n",
       "# dataset: projections-cordex-domains-single-levels\n",
       "def download(domain: str, experiment: str, horizontal_resolution: str, temporal_resolution: str, variable: str, gcm_model: str, rcm_model: str, ensemble_member: str, start_year: str, end_year: str):\n",
       "```"
      ],
      "text/plain": [
       "<IPython.core.display.Markdown object>"
      ]
     },
     "metadata": {},
     "output_type": "display_data"
    },
    {
     "data": {
      "text/markdown": [
       "```python\n",
       "# dataset: sis-health-vector\n",
       "def download(variable: str, experiment: str, ensemble_statistic: str):\n",
       "```"
      ],
      "text/plain": [
       "<IPython.core.display.Markdown object>"
      ]
     },
     "metadata": {},
     "output_type": "display_data"
    },
    {
     "data": {
      "text/markdown": [
       "```python\n",
       "# dataset: reanalysis-cerra-pressure-levels\n",
       "def download(variable: str, pressure_level: str, data_type: str, product_type: str, year: str, month: str, day: str, time: str, leadtime_hour: str, data_format: str = 'grib'):\n",
       "```"
      ],
      "text/plain": [
       "<IPython.core.display.Markdown object>"
      ]
     },
     "metadata": {},
     "output_type": "display_data"
    },
    {
     "data": {
      "text/markdown": [
       "```python\n",
       "# dataset: sis-marine-properties\n",
       "def download(origin: str, vertical_resolution: str, time_aggregation: str, variable: str, experiment: str, year: str, month: str):\n",
       "```"
      ],
      "text/plain": [
       "<IPython.core.display.Markdown object>"
      ]
     },
     "metadata": {},
     "output_type": "display_data"
    },
    {
     "data": {
      "text/markdown": [
       "```python\n",
       "# dataset: reanalysis-uerra-europe-soil-levels\n",
       "def download(origin: str, variable: str, soil_level: str, year: str, month: str, day: str, time: str, data_format: str = 'grib'):\n",
       "```"
      ],
      "text/plain": [
       "<IPython.core.display.Markdown object>"
      ]
     },
     "metadata": {},
     "output_type": "display_data"
    },
    {
     "data": {
      "text/markdown": [
       "```python\n",
       "# dataset: sis-biodiversity-era5-regional\n",
       "def download(region: str, origin: str, variable: str, derived_variable: str, statistic: str, version: str = '1.0'):\n",
       "```"
      ],
      "text/plain": [
       "<IPython.core.display.Markdown object>"
      ]
     },
     "metadata": {},
     "output_type": "display_data"
    },
    {
     "data": {
      "text/markdown": [
       "```python\n",
       "# dataset: sis-hydrology-variables-derived-seasonal-reforecast\n",
       "def download(variable: str, hydrological_model: str, year: str, month: str, version: str):\n",
       "```"
      ],
      "text/plain": [
       "<IPython.core.display.Markdown object>"
      ]
     },
     "metadata": {},
     "output_type": "display_data"
    },
    {
     "data": {
      "text/markdown": [
       "```python\n",
       "# dataset: reanalysis-era5-single-levels\n",
       "def download(product_type: str = 'reanalysis', variable: str, year: str, month: str, day: str, time: str, area_group: Union[FreeEditionType, GeographicExtentType] = 'global', data_format: str = 'grib', download_format: str = 'unarchived'):\n",
       "```"
      ],
      "text/plain": [
       "<IPython.core.display.Markdown object>"
      ]
     },
     "metadata": {},
     "output_type": "display_data"
    },
    {
     "data": {
      "text/markdown": [
       "```python\n",
       "# dataset: sis-energy-derived-reanalysis\n",
       "def download(variable: str, spatial_aggregation: str, energy_product_type: str, temporal_aggregation: str, year: str, month: str):\n",
       "```"
      ],
      "text/plain": [
       "<IPython.core.display.Markdown object>"
      ]
     },
     "metadata": {},
     "output_type": "display_data"
    },
    {
     "data": {
      "text/markdown": [
       "```python\n",
       "# dataset: satellite-sea-level-global\n",
       "def download(variable: str, year: str, month: str, day: str, version: str = 'vDT2021'):\n",
       "```"
      ],
      "text/plain": [
       "<IPython.core.display.Markdown object>"
      ]
     },
     "metadata": {},
     "output_type": "display_data"
    },
    {
     "data": {
      "text/markdown": [
       "```python\n",
       "# dataset: satellite-sea-surface-temperature-ensemble-product\n",
       "def download(variable: str = 'all', year: str, month: str, day: str):\n",
       "```"
      ],
      "text/plain": [
       "<IPython.core.display.Markdown object>"
      ]
     },
     "metadata": {},
     "output_type": "display_data"
    },
    {
     "data": {
      "text/markdown": [
       "```python\n",
       "# dataset: reanalysis-carra-height-levels\n",
       "def download(domain: str, variable: str, height_level: str, product_type: str, time: str, leadtime_hour: str, year: str, month: str, day: str, data_format: str = 'grib'):\n",
       "```"
      ],
      "text/plain": [
       "<IPython.core.display.Markdown object>"
      ]
     },
     "metadata": {},
     "output_type": "display_data"
    },
    {
     "data": {
      "text/markdown": [
       "```python\n",
       "# dataset: derived-era5-land-daily-statistics\n",
       "def download(variable: str, year: str, month: str, day: str, daily_statistic: str = 'daily_mean', time_zone: str = 'utc+00:00', frequency: str = '1_hourly', area_group: Union[FreeEditionType, GeographicExtentType] = 'global'):\n",
       "```"
      ],
      "text/plain": [
       "<IPython.core.display.Markdown object>"
      ]
     },
     "metadata": {},
     "output_type": "display_data"
    },
    {
     "data": {
      "text/markdown": [
       "```python\n",
       "# dataset: insitu-observations-woudc-ozone-total-column-and-profiles\n",
       "def download(observation_type: str, variable: str, year: str, month: str, day: str, area_group: Union[FreeEditionType, GeographicExtentType] = 'global', format: str):\n",
       "```"
      ],
      "text/plain": [
       "<IPython.core.display.Markdown object>"
      ]
     },
     "metadata": {},
     "output_type": "display_data"
    },
    {
     "data": {
      "text/markdown": [
       "```python\n",
       "# dataset: insitu-glaciers-extent\n",
       "def download(variable: str, product_type: str, version: str = '7'):\n",
       "```"
      ],
      "text/plain": [
       "<IPython.core.display.Markdown object>"
      ]
     },
     "metadata": {},
     "output_type": "display_data"
    },
    {
     "data": {
      "text/markdown": [
       "```python\n",
       "# dataset: projections-cmip5-daily-pressure-levels\n",
       "def download(experiment: str, variable: str, model: str, ensemble_member: str = 'r1i1p1', period: str):\n",
       "```"
      ],
      "text/plain": [
       "<IPython.core.display.Markdown object>"
      ]
     },
     "metadata": {},
     "output_type": "display_data"
    },
    {
     "data": {
      "text/markdown": [
       "```python\n",
       "# dataset: satellite-fire-burned-area\n",
       "def download(origin: str, sensor: str, variable: str, version: str, region: str, year: str, month: str, nominal_day: str):\n",
       "```"
      ],
      "text/plain": [
       "<IPython.core.display.Markdown object>"
      ]
     },
     "metadata": {},
     "output_type": "display_data"
    },
    {
     "data": {
      "text/markdown": [
       "```python\n",
       "# dataset: reanalysis-uerra-europe-pressure-levels\n",
       "def download(variable: str, pressure_level: str, year: str, month: str, day: str, time: str, data_format: str = 'grib'):\n",
       "```"
      ],
      "text/plain": [
       "<IPython.core.display.Markdown object>"
      ]
     },
     "metadata": {},
     "output_type": "display_data"
    },
    {
     "data": {
      "text/markdown": [
       "```python\n",
       "# dataset: satellite-sea-ice-edge-type\n",
       "def download(variable: str, region: str, cdr_type: str, year: str, month: str, day: str, version: str = '3_0'):\n",
       "```"
      ],
      "text/plain": [
       "<IPython.core.display.Markdown object>"
      ]
     },
     "metadata": {},
     "output_type": "display_data"
    },
    {
     "data": {
      "text/markdown": [
       "```python\n",
       "# dataset: sis-ocean-wave-timeseries\n",
       "def download(variable: str, experiment: str, year: str):\n",
       "```"
      ],
      "text/plain": [
       "<IPython.core.display.Markdown object>"
      ]
     },
     "metadata": {},
     "output_type": "display_data"
    },
    {
     "data": {
      "text/markdown": [
       "```python\n",
       "# dataset: satellite-cloud-properties\n",
       "def download(product_family: str, origin: str, variable: str, sensor_on_satellite: str, climate_data_record_type: str, time_aggregation: str, year: str, month: str, day: str, area_group: Union[FreeEditionType, GeographicExtentType] = 'global'):\n",
       "```"
      ],
      "text/plain": [
       "<IPython.core.display.Markdown object>"
      ]
     },
     "metadata": {},
     "output_type": "display_data"
    },
    {
     "data": {
      "text/markdown": [
       "```python\n",
       "# dataset: seasonal-postprocessed-pressure-levels\n",
       "def download(originating_centre: str, system: str, variable: str, pressure_level: str, product_type: str, year: str, month: str, leadtime_month: str, area_group: Union[FreeEditionType, GeographicExtentType] = 'global', data_format: str = 'grib'):\n",
       "```"
      ],
      "text/plain": [
       "<IPython.core.display.Markdown object>"
      ]
     },
     "metadata": {},
     "output_type": "display_data"
    },
    {
     "data": {
      "text/markdown": [
       "```python\n",
       "# dataset: sis-heat-and-cold-spells\n",
       "def download(variable: str, definition: str, experiment: str, ensemble_statistic: str):\n",
       "```"
      ],
      "text/plain": [
       "<IPython.core.display.Markdown object>"
      ]
     },
     "metadata": {},
     "output_type": "display_data"
    },
    {
     "data": {
      "text/markdown": [
       "```python\n",
       "# dataset: derived-gridded-glacier-mass-change\n",
       "def download(variable: str = 'glacier_mass_change', hydrological_year: str, product_version: str = 'wgms_fog_2023_09'):\n",
       "```"
      ],
      "text/plain": [
       "<IPython.core.display.Markdown object>"
      ]
     },
     "metadata": {},
     "output_type": "display_data"
    },
    {
     "data": {
      "text/markdown": [
       "```python\n",
       "# dataset: reanalysis-cerra-land\n",
       "def download(variable: str, level_type: str, soil_layer: str, product_type: str, year: str, month: str, day: str, time: str, leadtime_hour: str, data_format: str = 'grib'):\n",
       "```"
      ],
      "text/plain": [
       "<IPython.core.display.Markdown object>"
      ]
     },
     "metadata": {},
     "output_type": "display_data"
    },
    {
     "data": {
      "text/markdown": [
       "```python\n",
       "# dataset: satellite-sea-surface-temperature\n",
       "def download(variable: str = 'all', processinglevel: str, sensor_on_satellite: str, version: str = '2_1', year: str, month: str, day: str):\n",
       "```"
      ],
      "text/plain": [
       "<IPython.core.display.Markdown object>"
      ]
     },
     "metadata": {},
     "output_type": "display_data"
    },
    {
     "data": {
      "text/markdown": [
       "```python\n",
       "# dataset: reanalysis-uerra-europe-height-levels\n",
       "def download(variable: str, height_level: str, year: str, month: str, day: str, time: str, data_format: str = 'grib'):\n",
       "```"
      ],
      "text/plain": [
       "<IPython.core.display.Markdown object>"
      ]
     },
     "metadata": {},
     "output_type": "display_data"
    },
    {
     "data": {
      "text/markdown": [
       "```python\n",
       "# dataset: reanalysis-era5-land\n",
       "def download(variable: str, year: str, month: str, day: str, time: str, area_group: Union[FreeEditionType, GeographicExtentType] = 'global', data_format: str = 'grib', download_format: str = 'unarchived'):\n",
       "```"
      ],
      "text/plain": [
       "<IPython.core.display.Markdown object>"
      ]
     },
     "metadata": {},
     "output_type": "display_data"
    },
    {
     "data": {
      "text/markdown": [
       "```python\n",
       "# dataset: reanalysis-carra-single-levels\n",
       "def download(domain: str, level_type: str, variable: str, soil_level: str, product_type: str, time: str, leadtime_hour: str, year: str, month: str, day: str, data_format: str = 'grib'):\n",
       "```"
      ],
      "text/plain": [
       "<IPython.core.display.Markdown object>"
      ]
     },
     "metadata": {},
     "output_type": "display_data"
    },
    {
     "data": {
      "text/markdown": [
       "```python\n",
       "# dataset: sis-biodiversity-cmip5-regional\n",
       "def download(region: str, variable: str, derived_variable: str, model: str, ensemble_member: str, experiment: str, statistic: str, version: str = '1.0'):\n",
       "```"
      ],
      "text/plain": [
       "<IPython.core.display.Markdown object>"
      ]
     },
     "metadata": {},
     "output_type": "display_data"
    },
    {
     "data": {
      "text/markdown": [
       "```python\n",
       "# dataset: insitu-gridded-observations-global-and-regional\n",
       "def download(origin: str, region: str, variable: str, statistic: str, time_aggregation: str, horizontal_aggregation: str, year: str, version: str):\n",
       "```"
      ],
      "text/plain": [
       "<IPython.core.display.Markdown object>"
      ]
     },
     "metadata": {},
     "output_type": "display_data"
    },
    {
     "data": {
      "text/markdown": [
       "```python\n",
       "# dataset: projections-cmip5-daily-single-levels\n",
       "def download(experiment: str, variable: str, model: str, ensemble_member: str = 'r1i1p1', period: str):\n",
       "```"
      ],
      "text/plain": [
       "<IPython.core.display.Markdown object>"
      ]
     },
     "metadata": {},
     "output_type": "display_data"
    },
    {
     "data": {
      "text/markdown": [
       "```python\n",
       "# dataset: sis-biodiversity-era5-global\n",
       "def download(variable: str, derived_variable: str, temporal_aggregation: str, statistic: str, version: str = '1.0'):\n",
       "```"
      ],
      "text/plain": [
       "<IPython.core.display.Markdown object>"
      ]
     },
     "metadata": {},
     "output_type": "display_data"
    },
    {
     "data": {
      "text/markdown": [
       "```python\n",
       "# dataset: reanalysis-era5-land-monthly-means\n",
       "def download(product_type: str, variable: str, year: str, month: str, time: str, area_group: Union[FreeEditionType, GeographicExtentType] = 'global', data_format: str = 'grib', download_format: str = 'unarchived'):\n",
       "```"
      ],
      "text/plain": [
       "<IPython.core.display.Markdown object>"
      ]
     },
     "metadata": {},
     "output_type": "display_data"
    },
    {
     "data": {
      "text/markdown": [
       "```python\n",
       "# dataset: insitu-comprehensive-upper-air-observation-network\n",
       "def download(variable: str, year: str, month: str, day: str, area_group: Union[FreeEditionType, GeographicExtentType] = 'global', format: str):\n",
       "```"
      ],
      "text/plain": [
       "<IPython.core.display.Markdown object>"
      ]
     },
     "metadata": {},
     "output_type": "display_data"
    },
    {
     "data": {
      "text/markdown": [
       "```python\n",
       "# dataset: projections-cmip6\n",
       "def download(temporal_resolution: str, experiment: str, variable: str, level: str, model: str, year: str, month: str, day: str, area_group: Union[FreeEditionType, GeographicExtentType] = 'global'):\n",
       "```"
      ],
      "text/plain": [
       "<IPython.core.display.Markdown object>"
      ]
     },
     "metadata": {},
     "output_type": "display_data"
    },
    {
     "data": {
      "text/markdown": [
       "```python\n",
       "# dataset: insitu-observations-gruan-reference-network\n",
       "def download(variable: str, year: str, month: str, day: str, area_group: Union[FreeEditionType, GeographicExtentType] = 'global', format: str):\n",
       "```"
      ],
      "text/plain": [
       "<IPython.core.display.Markdown object>"
      ]
     },
     "metadata": {},
     "output_type": "display_data"
    },
    {
     "data": {
      "text/markdown": [
       "```python\n",
       "# dataset: insitu-gridded-observations-europe\n",
       "def download(product_type: str, variable: str, grid_resolution: str, period: str, version: str):\n",
       "```"
      ],
      "text/plain": [
       "<IPython.core.display.Markdown object>"
      ]
     },
     "metadata": {},
     "output_type": "display_data"
    },
    {
     "data": {
      "text/markdown": [
       "```python\n",
       "# dataset: derived-era5-pressure-levels-daily-statistics\n",
       "def download(product_type: str = 'reanalysis', variable: str, year: str, month: str, day: str, pressure_level: str, daily_statistic: str = 'daily_mean', time_zone: str = 'utc+00:00', frequency: str = '1_hourly', area_group: Union[FreeEditionType, GeographicExtentType] = 'global'):\n",
       "```"
      ],
      "text/plain": [
       "<IPython.core.display.Markdown object>"
      ]
     },
     "metadata": {},
     "output_type": "display_data"
    },
    {
     "data": {
      "text/markdown": [
       "```python\n",
       "# dataset: reanalysis-era5-complete\n",
       "def download(download_instructions: Optional[str] = None):\n",
       "```"
      ],
      "text/plain": [
       "<IPython.core.display.Markdown object>"
      ]
     },
     "metadata": {},
     "output_type": "display_data"
    },
    {
     "data": {
      "text/markdown": [
       "```python\n",
       "# dataset: derived-near-surface-meteorological-variables\n",
       "def download(variable: str, reference_dataset: str, year: str, month: str, version: str = '2.1'):\n",
       "```"
      ],
      "text/plain": [
       "<IPython.core.display.Markdown object>"
      ]
     },
     "metadata": {},
     "output_type": "display_data"
    },
    {
     "data": {
      "text/markdown": [
       "```python\n",
       "# dataset: sis-tourism-snow-indicators\n",
       "def download(time_aggregation: str, variable: str, experiment: str, rcm: str, gcm: str, period: str, statistic: str, year: str, version: str):\n",
       "```"
      ],
      "text/plain": [
       "<IPython.core.display.Markdown object>"
      ]
     },
     "metadata": {},
     "output_type": "display_data"
    },
    {
     "data": {
      "text/markdown": [
       "```python\n",
       "# dataset: reanalysis-uerra-europe-complete\n",
       "def download(download_instructions: Optional[str] = None):\n",
       "```"
      ],
      "text/plain": [
       "<IPython.core.display.Markdown object>"
      ]
     },
     "metadata": {},
     "output_type": "display_data"
    },
    {
     "data": {
      "text/markdown": [
       "```python\n",
       "# dataset: sis-european-risk-extreme-precipitation-indicators\n",
       "def download(spatial_coverage: str, variable: str, city: str, product_type: str, temporal_aggregation: str, percentile: str, return_period: str, period: str):\n",
       "```"
      ],
      "text/plain": [
       "<IPython.core.display.Markdown object>"
      ]
     },
     "metadata": {},
     "output_type": "display_data"
    },
    {
     "data": {
      "text/markdown": [
       "```python\n",
       "# dataset: satellite-total-column-water-vapour-land-ocean\n",
       "def download(variable: str = 'all', product: str, horizontal_aggregation: str, temporal_aggregation: str, year: str, month: str, day: str):\n",
       "```"
      ],
      "text/plain": [
       "<IPython.core.display.Markdown object>"
      ]
     },
     "metadata": {},
     "output_type": "display_data"
    },
    {
     "data": {
      "text/markdown": [
       "```python\n",
       "# dataset: sis-temperature-statistics\n",
       "def download(variable: str, period: str, statistic: str, experiment: str, ensemble_statistic: str):\n",
       "```"
      ],
      "text/plain": [
       "<IPython.core.display.Markdown object>"
      ]
     },
     "metadata": {},
     "output_type": "display_data"
    },
    {
     "data": {
      "text/markdown": [
       "```python\n",
       "# dataset: satellite-fire-radiative-power\n",
       "def download(variable: str = 'all', product_type: str, time_aggregation: str, horizontal_aggregation: str, satellite: str, observation_time: str, year: str, month: str, day: str, version: str):\n",
       "```"
      ],
      "text/plain": [
       "<IPython.core.display.Markdown object>"
      ]
     },
     "metadata": {},
     "output_type": "display_data"
    },
    {
     "data": {
      "text/markdown": [
       "```python\n",
       "# dataset: satellite-methane\n",
       "def download(processing_level: str, variable: str, sensor_and_algorithm: str, year: str, month: str, day: str, version: str):\n",
       "```"
      ],
      "text/plain": [
       "<IPython.core.display.Markdown object>"
      ]
     },
     "metadata": {},
     "output_type": "display_data"
    },
    {
     "data": {
      "text/markdown": [
       "```python\n",
       "# dataset: satellite-ice-sheet-elevation-change\n",
       "def download(domain: str, climate_data_record_type: str, version: str, variable: str = 'all'):\n",
       "```"
      ],
      "text/plain": [
       "<IPython.core.display.Markdown object>"
      ]
     },
     "metadata": {},
     "output_type": "display_data"
    },
    {
     "data": {
      "text/markdown": [
       "```python\n",
       "# dataset: seasonal-monthly-pressure-levels\n",
       "def download(originating_centre: str, system: str, variable: str, pressure_level: str, product_type: str, year: str, month: str, leadtime_month: str, area_group: Union[FreeEditionType, GeographicExtentType] = 'global', data_format: str = 'grib'):\n",
       "```"
      ],
      "text/plain": [
       "<IPython.core.display.Markdown object>"
      ]
     },
     "metadata": {},
     "output_type": "display_data"
    },
    {
     "data": {
      "text/markdown": [
       "```python\n",
       "# dataset: satellite-carbon-dioxide\n",
       "def download(processing_level: str, variable: str, sensor_and_algorithm: str, year: str, month: str, day: str, version: str):\n",
       "```"
      ],
      "text/plain": [
       "<IPython.core.display.Markdown object>"
      ]
     },
     "metadata": {},
     "output_type": "display_data"
    },
    {
     "data": {
      "text/markdown": [
       "```python\n",
       "# dataset: insitu-observations-surface-land\n",
       "def download(time_aggregation: str, variable: str, usage_restrictions: str, data_quality: str, year: str, month: str, day: str, area_group: Union[FreeEditionType, GeographicExtentType] = 'global'):\n",
       "```"
      ],
      "text/plain": [
       "<IPython.core.display.Markdown object>"
      ]
     },
     "metadata": {},
     "output_type": "display_data"
    },
    {
     "data": {
      "text/markdown": [
       "```python\n",
       "# dataset: projections-cmip5-monthly-single-levels\n",
       "def download(experiment: str, variable: str, model: str, ensemble_member: str = 'r1i1p1', period: str):\n",
       "```"
      ],
      "text/plain": [
       "<IPython.core.display.Markdown object>"
      ]
     },
     "metadata": {},
     "output_type": "display_data"
    },
    {
     "data": {
      "text/markdown": [
       "```python\n",
       "# dataset: insitu-observations-surface-marine\n",
       "def download(variable: str, data_quality: str, year: str, month: str, day: str, area_group: Union[FreeEditionType, GeographicExtentType] = 'global'):\n",
       "```"
      ],
      "text/plain": [
       "<IPython.core.display.Markdown object>"
      ]
     },
     "metadata": {},
     "output_type": "display_data"
    },
    {
     "data": {
      "text/markdown": [
       "```python\n",
       "# dataset: seasonal-monthly-ocean\n",
       "def download(originating_centre: str, system: str, variable: str, forecast_type: str, year: str, month: str):\n",
       "```"
      ],
      "text/plain": [
       "<IPython.core.display.Markdown object>"
      ]
     },
     "metadata": {},
     "output_type": "display_data"
    },
    {
     "data": {
      "text/markdown": [
       "```python\n",
       "# dataset: seasonal-monthly-single-levels\n",
       "def download(originating_centre: str, system: str, variable: str, product_type: str, year: str, month: str, leadtime_month: str, area_group: Union[FreeEditionType, GeographicExtentType] = 'global', data_format: str = 'grib'):\n",
       "```"
      ],
      "text/plain": [
       "<IPython.core.display.Markdown object>"
      ]
     },
     "metadata": {},
     "output_type": "display_data"
    },
    {
     "data": {
      "text/markdown": [
       "```python\n",
       "# dataset: satellite-greenland-ice-sheet-velocity\n",
       "def download(variable: str = 'all', period: str, version: str):\n",
       "```"
      ],
      "text/plain": [
       "<IPython.core.display.Markdown object>"
      ]
     },
     "metadata": {},
     "output_type": "display_data"
    },
    {
     "data": {
      "text/markdown": [
       "```python\n",
       "# dataset: satellite-ozone-v1\n",
       "def download(processing_level: str, variable: str, vertical_aggregation: str, sensor: str, algorithm: str, year: str, month: str, version: str):\n",
       "```"
      ],
      "text/plain": [
       "<IPython.core.display.Markdown object>"
      ]
     },
     "metadata": {},
     "output_type": "display_data"
    },
    {
     "data": {
      "text/markdown": [
       "```python\n",
       "# dataset: derived-era5-single-levels-daily-statistics\n",
       "def download(product_type: str = 'reanalysis', variable: str, year: str, month: str, day: str, daily_statistic: str = 'daily_mean', time_zone: str = 'utc+00:00', frequency: str = '1_hourly', area_group: Union[FreeEditionType, GeographicExtentType] = 'global'):\n",
       "```"
      ],
      "text/plain": [
       "<IPython.core.display.Markdown object>"
      ]
     },
     "metadata": {},
     "output_type": "display_data"
    },
    {
     "data": {
      "text/markdown": [
       "```python\n",
       "# dataset: seasonal-original-single-levels\n",
       "def download(originating_centre: str, system: str, variable: str, year: str, month: str, day: str, leadtime_hour: str, area_group: Union[FreeEditionType, GeographicExtentType] = 'global', data_format: str = 'grib'):\n",
       "```"
      ],
      "text/plain": [
       "<IPython.core.display.Markdown object>"
      ]
     },
     "metadata": {},
     "output_type": "display_data"
    },
    {
     "data": {
      "text/markdown": [
       "```python\n",
       "# dataset: reanalysis-cerra-single-levels\n",
       "def download(variable: str, level_type: str, soil_layer: str, data_type: str, product_type: str, year: str, month: str, day: str, time: str, leadtime_hour: str, data_format: str = 'grib'):\n",
       "```"
      ],
      "text/plain": [
       "<IPython.core.display.Markdown object>"
      ]
     },
     "metadata": {},
     "output_type": "display_data"
    },
    {
     "data": {
      "text/markdown": [
       "```python\n",
       "# dataset: satellite-precipitation-microwave\n",
       "def download(variable: str = 'all', time_aggregation: str, year: str, month: str, day: str, version: str = 'v1.0'):\n",
       "```"
      ],
      "text/plain": [
       "<IPython.core.display.Markdown object>"
      ]
     },
     "metadata": {},
     "output_type": "display_data"
    },
    {
     "data": {
      "text/markdown": [
       "```python\n",
       "# dataset: sis-ocean-wave-indicators\n",
       "def download(variable: str, experiment: str, period: str, statistic: str):\n",
       "```"
      ],
      "text/plain": [
       "<IPython.core.display.Markdown object>"
      ]
     },
     "metadata": {},
     "output_type": "display_data"
    },
    {
     "data": {
      "text/markdown": [
       "```python\n",
       "# dataset: sis-european-wind-storm-synthetic-events\n",
       "def download(variable: str, version_id: str, year: str, month: str):\n",
       "```"
      ],
      "text/plain": [
       "<IPython.core.display.Markdown object>"
      ]
     },
     "metadata": {},
     "output_type": "display_data"
    },
    {
     "data": {
      "text/markdown": [
       "```python\n",
       "# dataset: reanalysis-era5-single-levels-monthly-means\n",
       "def download(product_type: str, variable: str, year: str, month: str, time: str, area_group: Union[FreeEditionType, GeographicExtentType] = 'global', data_format: str = 'grib', download_format: str = 'unarchived'):\n",
       "```"
      ],
      "text/plain": [
       "<IPython.core.display.Markdown object>"
      ]
     },
     "metadata": {},
     "output_type": "display_data"
    },
    {
     "data": {
      "text/markdown": [
       "```python\n",
       "# dataset: reanalysis-cerra-height-levels\n",
       "def download(variable: str, height_level: str, data_type: str, product_type: str, year: str, month: str, day: str, time: str, leadtime_hour: str, data_format: str = 'grib'):\n",
       "```"
      ],
      "text/plain": [
       "<IPython.core.display.Markdown object>"
      ]
     },
     "metadata": {},
     "output_type": "display_data"
    },
    {
     "data": {
      "text/markdown": [
       "```python\n",
       "# dataset: sis-agroproductivity-indicators\n",
       "def download(product_family: str, variable: str, crop_type: str, year: str, month: str, day: str, growing_season: str, harvest_year: str):\n",
       "```"
      ],
      "text/plain": [
       "<IPython.core.display.Markdown object>"
      ]
     },
     "metadata": {},
     "output_type": "display_data"
    },
    {
     "data": {
      "text/markdown": [
       "```python\n",
       "# dataset: derived-reanalysis-energy-moisture-budget\n",
       "def download(variable: str, year: str, month: str, MissingTransformer(transformer_name='ExclusiveFrameWidgetTransformer', data=ExclusiveFrameWidget(label='Geographical area', widgets=['global', 'area'], required=True, id=None)), MissingTransformer(transformer_name='LabelWidgetTransformer', data=LabelWidget(label='Whole available region', name='global', required=True, accordion='False,', information='With this option selected the entire available area will be provided')), MissingTransformer(transformer_name='GeographicExtentMapWidgetTransformer', data=GeographicExtentMapWidget(label='Sub-region extraction', name='area', required=False, range={'e': 360, 'n': 90, 's': -90, 'w': 0}, default=[90, 0, -90, 360], precision=2, fullheight=True, wrapping=True))):\n",
       "```"
      ],
      "text/plain": [
       "<IPython.core.display.Markdown object>"
      ]
     },
     "metadata": {},
     "output_type": "display_data"
    },
    {
     "data": {
      "text/markdown": [
       "```python\n",
       "# dataset: sis-hydrology-variables-derived-projections\n",
       "def download(product_type: str, variable: str, variable_type: str, time_aggregation: str, experiment: str, hydrological_model: str, rcm: str, gcm: str, ensemble_member: str, period: str):\n",
       "```"
      ],
      "text/plain": [
       "<IPython.core.display.Markdown object>"
      ]
     },
     "metadata": {},
     "output_type": "display_data"
    },
    {
     "data": {
      "text/markdown": [
       "```python\n",
       "# dataset: reanalysis-carra-model-levels\n",
       "def download(domain: str, variable: str, model_level: str, product_type: str, time: str, leadtime_hour: str, year: str, month: str, day: str, data_format: str = 'grib'):\n",
       "```"
      ],
      "text/plain": [
       "<IPython.core.display.Markdown object>"
      ]
     },
     "metadata": {},
     "output_type": "display_data"
    },
    {
     "data": {
      "text/markdown": [
       "```python\n",
       "# dataset: projections-cmip6-decadal-prototype\n",
       "def download(temporal_resolution: str, variable: str, model: str, base_year: str, year: str, month: str, day: str, area_group: Union[FreeEditionType, GeographicExtentType] = 'global'):\n",
       "```"
      ],
      "text/plain": [
       "<IPython.core.display.Markdown object>"
      ]
     },
     "metadata": {},
     "output_type": "display_data"
    },
    {
     "data": {
      "text/markdown": [
       "```python\n",
       "# dataset: sis-ecv-cmip5-bias-corrected\n",
       "def download(variable: str, model: str, experiment: str, period: str):\n",
       "```"
      ],
      "text/plain": [
       "<IPython.core.display.Markdown object>"
      ]
     },
     "metadata": {},
     "output_type": "display_data"
    },
    {
     "data": {
      "text/markdown": [
       "```python\n",
       "# dataset: satellite-surface-radiation-budget\n",
       "def download(product_family: str, origin: str, variable: str, sensor_on_satellite: str, climate_data_record_type: str, time_aggregation: str, year: str, month: str, day: str, area_group: Union[FreeEditionType, GeographicExtentType] = 'global'):\n",
       "```"
      ],
      "text/plain": [
       "<IPython.core.display.Markdown object>"
      ]
     },
     "metadata": {},
     "output_type": "display_data"
    },
    {
     "data": {
      "text/markdown": [
       "```python\n",
       "# dataset: satellite-sea-ice-thickness\n",
       "def download(satellite: str, cdr_type: str, variable: str = 'all', year: str, month: str, version: str = '3_0'):\n",
       "```"
      ],
      "text/plain": [
       "<IPython.core.display.Markdown object>"
      ]
     },
     "metadata": {},
     "output_type": "display_data"
    },
    {
     "data": {
      "text/markdown": [
       "```python\n",
       "# dataset: sis-extreme-indices-cmip6\n",
       "def download(variable: str, product_type: str, model: str, ensemble_member: str, experiment: str, temporal_aggregation: str, period: str, version: str = '2_0'):\n",
       "```"
      ],
      "text/plain": [
       "<IPython.core.display.Markdown object>"
      ]
     },
     "metadata": {},
     "output_type": "display_data"
    },
    {
     "data": {
      "text/markdown": [
       "```python\n",
       "# dataset: satellite-aerosol-properties\n",
       "def download(time_aggregation: str, variable: str, sensor_on_satellite: str, algorithm: str, year: str, month: str, day: str, version: str, orbit: str):\n",
       "```"
      ],
      "text/plain": [
       "<IPython.core.display.Markdown object>"
      ]
     },
     "metadata": {},
     "output_type": "display_data"
    },
    {
     "data": {
      "text/markdown": [
       "```python\n",
       "# dataset: insitu-observations-igra-baseline-network\n",
       "def download(archive: str, variable: str, year: str, month: str, day: str, area_group: Union[FreeEditionType, GeographicExtentType] = 'global', format: str):\n",
       "```"
      ],
      "text/plain": [
       "<IPython.core.display.Markdown object>"
      ]
     },
     "metadata": {},
     "output_type": "display_data"
    },
    {
     "data": {
      "text/markdown": [
       "```python\n",
       "# dataset: satellite-ocean-colour\n",
       "def download(variable: str, projection: str, year: str, month: str, day: str, version: str):\n",
       "```"
      ],
      "text/plain": [
       "<IPython.core.display.Markdown object>"
      ]
     },
     "metadata": {},
     "output_type": "display_data"
    },
    {
     "data": {
      "text/markdown": [
       "```python\n",
       "# dataset: reanalysis-oras5\n",
       "def download(product_type: str, vertical_resolution: str, variable: str, year: str, month: str):\n",
       "```"
      ],
      "text/plain": [
       "<IPython.core.display.Markdown object>"
      ]
     },
     "metadata": {},
     "output_type": "display_data"
    },
    {
     "data": {
      "text/markdown": [
       "```python\n",
       "# dataset: sis-european-wind-storm-indicators\n",
       "def download(product: str, variable: str = 'all', time_aggregation: str, spatial_aggregation: str, year: str, month: str, day: str):\n",
       "```"
      ],
      "text/plain": [
       "<IPython.core.display.Markdown object>"
      ]
     },
     "metadata": {},
     "output_type": "display_data"
    },
    {
     "data": {
      "text/markdown": [
       "```python\n",
       "# dataset: satellite-earth-radiation-budget\n",
       "def download(product_family: str, origin: str, variable: str, sensor_on_satellite: str, climate_data_record_type: str, time_aggregation: str, year: str, month: str, day: str, version: str, area_group: Union[FreeEditionType, GeographicExtentType] = 'global'):\n",
       "```"
      ],
      "text/plain": [
       "<IPython.core.display.Markdown object>"
      ]
     },
     "metadata": {},
     "output_type": "display_data"
    },
    {
     "data": {
      "text/markdown": [
       "```python\n",
       "# dataset: sis-hydrology-variables-derived-seasonal-forecast\n",
       "def download(variable: str, hydrological_model: str, year: str, month: str, version: str = 1):\n",
       "```"
      ],
      "text/plain": [
       "<IPython.core.display.Markdown object>"
      ]
     },
     "metadata": {},
     "output_type": "display_data"
    },
    {
     "data": {
      "text/markdown": [
       "```python\n",
       "# dataset: ecv-for-climate-change\n",
       "def download(variable: str, origin: str, product_type: str, climate_reference_period: str, time_aggregation: str, year: str, month: str):\n",
       "```"
      ],
      "text/plain": [
       "<IPython.core.display.Markdown object>"
      ]
     },
     "metadata": {},
     "output_type": "display_data"
    },
    {
     "data": {
      "text/markdown": [
       "```python\n",
       "# dataset: sis-energy-pecd\n",
       "def download(pecd_version: str = 'pecd4_1', temporal_period: str, origin: str, emissions: str, variable: str, technology: str, spatial_resolution: str, year: str, month: str, MissingTransformer(transformer_name='GeographicExtentWidgetTransformer', data=GeographicExtentWidget(label='Sub-region extraction (gridded data only)', name='area', required=False, precision=2, range={'n': 75, 'w': -31, 's': 18, 'e': 45})), area_group: Union[GeographicExtentType, FreeEditionType] = 'global'):\n",
       "```"
      ],
      "text/plain": [
       "<IPython.core.display.Markdown object>"
      ]
     },
     "metadata": {},
     "output_type": "display_data"
    },
    {
     "data": {
      "text/markdown": [
       "```python\n",
       "# dataset: satellite-sea-ice-concentration\n",
       "def download(variable: str = 'all', version: str, sensor: str, origin: str, region: str, cdr_type: str, temporal_aggregation: str, year: str, month: str, day: str):\n",
       "```"
      ],
      "text/plain": [
       "<IPython.core.display.Markdown object>"
      ]
     },
     "metadata": {},
     "output_type": "display_data"
    },
    {
     "data": {
      "text/markdown": [
       "```python\n",
       "# dataset: derived-utci-historical\n",
       "def download(variable: str, version: str = '1_1', product_type: str, year: str, month: str, day: str, area_group: Union[FreeEditionType, GeographicExtentType] = 'global'):\n",
       "```"
      ],
      "text/plain": [
       "<IPython.core.display.Markdown object>"
      ]
     },
     "metadata": {},
     "output_type": "display_data"
    },
    {
     "data": {
      "text/markdown": [
       "```python\n",
       "# dataset: sis-water-level-change-timeseries-cmip6\n",
       "def download(variable: str, experiment: str, model: str, temporal_aggregation: str, year: str, month: str):\n",
       "```"
      ],
      "text/plain": [
       "<IPython.core.display.Markdown object>"
      ]
     },
     "metadata": {},
     "output_type": "display_data"
    },
    {
     "data": {
      "text/markdown": [
       "```python\n",
       "# dataset: satellite-lai-fapar\n",
       "def download(variable: str, satellite: str, sensor: str, horizontal_resolution: str, product_version: str, year: str, month: str, nominal_day: str, area_group: Union[FreeEditionType, GeographicExtentType] = 'global'):\n",
       "```"
      ],
      "text/plain": [
       "<IPython.core.display.Markdown object>"
      ]
     },
     "metadata": {},
     "output_type": "display_data"
    },
    {
     "data": {
      "text/markdown": [
       "```python\n",
       "# dataset: satellite-land-cover\n",
       "def download(variable: str = 'all', year: str, version: str, area_group: Union[FreeEditionType, GeographicExtentType] = 'global'):\n",
       "```"
      ],
      "text/plain": [
       "<IPython.core.display.Markdown object>"
      ]
     },
     "metadata": {},
     "output_type": "display_data"
    },
    {
     "data": {
      "text/markdown": [
       "```python\n",
       "# dataset: satellite-total-column-water-vapour-ocean\n",
       "def download(origin: str, climate_data_record_type: str, temporal_aggregation: str, year: str, month: str, variable: str = 'all'):\n",
       "```"
      ],
      "text/plain": [
       "<IPython.core.display.Markdown object>"
      ]
     },
     "metadata": {},
     "output_type": "display_data"
    },
    {
     "data": {
      "text/markdown": [
       "```python\n",
       "# dataset: projections-cmip5-monthly-pressure-levels\n",
       "def download(experiment: str, variable: str, model: str, ensemble_member: str = 'r1i1p1', period: str):\n",
       "```"
      ],
      "text/plain": [
       "<IPython.core.display.Markdown object>"
      ]
     },
     "metadata": {},
     "output_type": "display_data"
    },
    {
     "data": {
      "text/markdown": [
       "```python\n",
       "# dataset: sis-hydrology-meteorology-derived-projections\n",
       "def download(product_type: str, variable: str, processing_type: str, variable_type: str, time_aggregation: str, horizontal_resolution: str, experiment: str, rcm: str, gcm: str, ensemble_member: str, period: str):\n",
       "```"
      ],
      "text/plain": [
       "<IPython.core.display.Markdown object>"
      ]
     },
     "metadata": {},
     "output_type": "display_data"
    },
    {
     "data": {
      "text/markdown": [
       "```python\n",
       "# dataset: sis-water-level-change-indicators-cmip6\n",
       "def download(variable: str, derived_variable: str, product_type: str, multi_model_ensemble_statistic: str, model: str, statistic: str, confidence_interval: str, experiment: str, period: str):\n",
       "```"
      ],
      "text/plain": [
       "<IPython.core.display.Markdown object>"
      ]
     },
     "metadata": {},
     "output_type": "display_data"
    },
    {
     "data": {
      "text/markdown": [
       "```python\n",
       "# dataset: sis-agroclimatic-indicators\n",
       "def download(origin: str, variable: str, experiment: str, temporal_aggregation: str, period: str, version: str):\n",
       "```"
      ],
      "text/plain": [
       "<IPython.core.display.Markdown object>"
      ]
     },
     "metadata": {},
     "output_type": "display_data"
    },
    {
     "data": {
      "text/markdown": [
       "```python\n",
       "# dataset: projections-climate-atlas\n",
       "def download(origin: str, experiment: str, domain: str, period: str, variable: str):\n",
       "```"
      ],
      "text/plain": [
       "<IPython.core.display.Markdown object>"
      ]
     },
     "metadata": {},
     "output_type": "display_data"
    },
    {
     "data": {
      "text/markdown": [
       "```python\n",
       "# dataset: reanalysis-carra-pressure-levels\n",
       "def download(domain: str, variable: str, pressure_level: str, product_type: str, time: str, leadtime_hour: str, year: str, month: str, day: str, data_format: str = 'grib'):\n",
       "```"
      ],
      "text/plain": [
       "<IPython.core.display.Markdown object>"
      ]
     },
     "metadata": {},
     "output_type": "display_data"
    },
    {
     "data": {
      "text/markdown": [
       "```python\n",
       "# dataset: sis-biodiversity-cmip5-global\n",
       "def download(variable: str, derived_variable: str, model: str, ensemble_member: str, experiment: str, temporal_aggregation: str, statistic: str, version: str = '1.0'):\n",
       "```"
      ],
      "text/plain": [
       "<IPython.core.display.Markdown object>"
      ]
     },
     "metadata": {},
     "output_type": "display_data"
    },
    {
     "data": {
      "text/markdown": [
       "```python\n",
       "# dataset: insitu-gridded-observations-nordic\n",
       "def download(variable: str, product_type: str, spatial_interpolation_method: str, year: str, month: str, day: str, version: str):\n",
       "```"
      ],
      "text/plain": [
       "<IPython.core.display.Markdown object>"
      ]
     },
     "metadata": {},
     "output_type": "display_data"
    },
    {
     "data": {
      "text/markdown": [
       "```python\n",
       "# dataset: reanalysis-era5-pressure-levels-monthly-means\n",
       "def download(product_type: str, variable: str, pressure_level: str, year: str, month: str, time: str, area_group: Union[FreeEditionType, GeographicExtentType] = 'global', data_format: str = 'grib', download_format: str = 'unarchived'):\n",
       "```"
      ],
      "text/plain": [
       "<IPython.core.display.Markdown object>"
      ]
     },
     "metadata": {},
     "output_type": "display_data"
    },
    {
     "data": {
      "text/markdown": [
       "```python\n",
       "# dataset: satellite-precipitation\n",
       "def download(variable: str = 'all', time_aggregation: str, year: str, month: str, day: str, area_group: Union[FreeEditionType, GeographicExtentType] = 'global'):\n",
       "```"
      ],
      "text/plain": [
       "<IPython.core.display.Markdown object>"
      ]
     },
     "metadata": {},
     "output_type": "display_data"
    },
    {
     "data": {
      "text/markdown": [
       "```python\n",
       "# dataset: insitu-observations-gnss\n",
       "def download(network_type: str, variable: str, year: str, month: str, day: str, area_group: Union[FreeEditionType, GeographicExtentType] = 'global', format: str):\n",
       "```"
      ],
      "text/plain": [
       "<IPython.core.display.Markdown object>"
      ]
     },
     "metadata": {},
     "output_type": "display_data"
    },
    {
     "data": {
      "text/markdown": [
       "```python\n",
       "# dataset: sis-agrometeorological-indicators\n",
       "def download(variable: str, statistic: str, year: str, month: str, day: str, time: str, version: str = '1_1', area_group: Union[FreeEditionType, GeographicExtentType] = 'global'):\n",
       "```"
      ],
      "text/plain": [
       "<IPython.core.display.Markdown object>"
      ]
     },
     "metadata": {},
     "output_type": "display_data"
    },
    {
     "data": {
      "text/markdown": [
       "```python\n",
       "# dataset: sis-tourism-fire-danger-indicators\n",
       "def download(time_aggregation: str, product_type: str, variable: str, gcm_model: str, experiment: str, period: str, version: str):\n",
       "```"
      ],
      "text/plain": [
       "<IPython.core.display.Markdown object>"
      ]
     },
     "metadata": {},
     "output_type": "display_data"
    },
    {
     "data": {
      "text/markdown": [
       "```python\n",
       "# dataset: sis-ecde-climate-indicators\n",
       "def download(variable: str, origin: str, gcm: str, rcm: str, experiment: str, ensemble_member: str, hydrological_model: str, temporal_aggregation: str, spatial_aggregation: str, regional_layer: str, other_parameters: str):\n",
       "```"
      ],
      "text/plain": [
       "<IPython.core.display.Markdown object>"
      ]
     },
     "metadata": {},
     "output_type": "display_data"
    },
    {
     "data": {
      "text/markdown": [
       "```python\n",
       "# dataset: satellite-humidity-profiles\n",
       "def download(variable: str = 'all', product_type: str, year: str, month: str):\n",
       "```"
      ],
      "text/plain": [
       "<IPython.core.display.Markdown object>"
      ]
     },
     "metadata": {},
     "output_type": "display_data"
    },
    {
     "data": {
      "text/markdown": [
       "```python\n",
       "# dataset: reanalysis-era5-pressure-levels\n",
       "def download(product_type: str = 'reanalysis', variable: str, year: str, month: str, day: str, time: str, pressure_level: str, area_group: Union[FreeEditionType, GeographicExtentType] = 'global', data_format: str = 'grib', download_format: str = 'unarchived'):\n",
       "```"
      ],
      "text/plain": [
       "<IPython.core.display.Markdown object>"
      ]
     },
     "metadata": {},
     "output_type": "display_data"
    }
   ],
   "source": [
    "from lyra import Client\n",
    "from lyra.parser import parse_form\n",
    "from lyra.transformer.transformer import transform_form\n",
    "from IPython.display import display, Markdown\n",
    "\n",
    "from fundar import json\n",
    "from glob import glob\n",
    "from tqdm.auto import tqdm\n",
    "\n",
    "forms = glob('../data/*-form.json')\n",
    "\n",
    "def display_markdown(md):\n",
    "    display(Markdown(md))\n",
    "\n",
    "for form in forms:\n",
    "    ast = parse_form(json.load(form))\n",
    "    display_str = []\n",
    "    display_str.append('```python\\n')\n",
    "    display_str.append('# dataset: ')\n",
    "    display_str.append(form.split('-form')[0].rsplit('/')[-1])\n",
    "    display_str.append('\\ndef download(')\n",
    "    display_str.append(', '.join(transform_form(ast)))\n",
    "    display_str.append('):')\n",
    "    display_str.append('\\n```')\n",
    "    display_markdown(''.join(display_str))"
   ]
  }
 ],
 "metadata": {
  "kernelspec": {
   "display_name": "Python 3",
   "language": "python",
   "name": "python3"
  },
  "language_info": {
   "codemirror_mode": {
    "name": "ipython",
    "version": 3
   },
   "file_extension": ".py",
   "mimetype": "text/x-python",
   "name": "python",
   "nbconvert_exporter": "python",
   "pygments_lexer": "ipython3",
   "version": "3.10.12"
  }
 },
 "nbformat": 4,
 "nbformat_minor": 2
}
