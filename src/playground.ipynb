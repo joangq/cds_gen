{
 "cells": [
  {
   "cell_type": "code",
   "execution_count": 1,
   "metadata": {},
   "outputs": [],
   "source": [
    "from lyra import Client\n",
    "from lyra.parser import parse_form\n",
    "from lyra.transformer.transformer import transform_form\n",
    "from IPython.display import display, Markdown\n",
    "from lyra.translator.translate import make_collection, imports\n",
    "\n",
    "from fundar import json\n",
    "from glob import glob\n",
    "from tqdm.auto import tqdm\n",
    "\n",
    "forms = glob('../data/*-form.json')\n",
    "\n",
    "def display_markdown(md):\n",
    "    display(Markdown(md))\n",
    "\n",
    "with open('lyra/cds_collections/cds_collections.py', 'w') as f:\n",
    "    f.write(imports)\n",
    "    for form in forms:\n",
    "        ast = parse_form(json.load(form))\n",
    "        collection_name = form.split('-form')[0].rsplit('/')[-1]\n",
    "\n",
    "        transformed_ast = sorted(set(transform_form(ast)))\n",
    "        \n",
    "        #display_str.append('\\n```')\n",
    "\n",
    "        f.write(make_collection(collection_name.replace('-', '_'), transformed_ast))"
   ]
  },
  {
   "cell_type": "code",
   "execution_count": 2,
   "metadata": {},
   "outputs": [],
   "source": [
    "from typing import Union"
   ]
  },
  {
   "cell_type": "code",
   "execution_count": 3,
   "metadata": {},
   "outputs": [],
   "source": [
    "from lyra.cds_collections import Collection_derived_era5_land_daily_statistics"
   ]
  },
  {
   "cell_type": "code",
   "execution_count": 4,
   "metadata": {},
   "outputs": [
    {
     "ename": "TypeError",
     "evalue": "Collection_derived_era5_land_daily_statistics.__download__() missing 4 required positional arguments: 'year', 'month', 'day', and 'variable'",
     "output_type": "error",
     "traceback": [
      "\u001b[0;31m---------------------------------------------------------------------------\u001b[0m",
      "\u001b[0;31mTypeError\u001b[0m                                 Traceback (most recent call last)",
      "Cell \u001b[0;32mIn[4], line 1\u001b[0m\n\u001b[0;32m----> 1\u001b[0m \u001b[43mCollection_derived_era5_land_daily_statistics\u001b[49m\u001b[38;5;241;43m.\u001b[39;49m\u001b[43mdownload\u001b[49m\u001b[43m(\u001b[49m\n\u001b[1;32m      2\u001b[0m \n\u001b[1;32m      3\u001b[0m \u001b[43m)\u001b[49m\n",
      "File \u001b[0;32m~.new/remote/personal/cds_gen/src/lyra/translator/types.py:15\u001b[0m, in \u001b[0;36mCollection.wrapper.<locals>.download\u001b[0;34m(cls, **kwargs)\u001b[0m\n\u001b[1;32m     12\u001b[0m \u001b[38;5;129m@classmethod\u001b[39m\n\u001b[1;32m     13\u001b[0m \u001b[38;5;129m@wraps\u001b[39m(f)\n\u001b[1;32m     14\u001b[0m \u001b[38;5;28;01mdef\u001b[39;00m \u001b[38;5;21mdownload\u001b[39m(\u001b[38;5;28mcls\u001b[39m, \u001b[38;5;241m*\u001b[39m\u001b[38;5;241m*\u001b[39mkwargs) \u001b[38;5;241m-\u001b[39m\u001b[38;5;241m>\u001b[39m \u001b[38;5;28;01mNone\u001b[39;00m:\n\u001b[0;32m---> 15\u001b[0m     \u001b[38;5;28;01mreturn\u001b[39;00m \u001b[38;5;28;43mcls\u001b[39;49m\u001b[38;5;241;43m.\u001b[39;49m\u001b[43m__download__\u001b[49m\u001b[43m(\u001b[49m\n\u001b[1;32m     16\u001b[0m \u001b[43m        \u001b[49m\u001b[38;5;241;43m*\u001b[39;49m\u001b[38;5;241;43m*\u001b[39;49m\u001b[43mkwargs\u001b[49m\n\u001b[1;32m     17\u001b[0m \u001b[43m    \u001b[49m\u001b[43m)\u001b[49m\n",
      "\u001b[0;31mTypeError\u001b[0m: Collection_derived_era5_land_daily_statistics.__download__() missing 4 required positional arguments: 'year', 'month', 'day', and 'variable'"
     ]
    }
   ],
   "source": [
    "Collection_derived_era5_land_daily_statistics.download(\n",
    "\n",
    ")"
   ]
  }
 ],
 "metadata": {
  "kernelspec": {
   "display_name": "Python 3",
   "language": "python",
   "name": "python3"
  },
  "language_info": {
   "codemirror_mode": {
    "name": "ipython",
    "version": 3
   },
   "file_extension": ".py",
   "mimetype": "text/x-python",
   "name": "python",
   "nbconvert_exporter": "python",
   "pygments_lexer": "ipython3",
   "version": "3.10.12"
  }
 },
 "nbformat": 4,
 "nbformat_minor": 2
}
