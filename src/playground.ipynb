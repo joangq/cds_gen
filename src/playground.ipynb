{
 "cells": [
  {
   "cell_type": "code",
   "execution_count": 1,
   "metadata": {},
   "outputs": [],
   "source": [
    "from lyra import Client\n",
    "from lyra.parser import parse_form\n",
    "from lyra.transformer.transformer import transform_form\n",
    "from IPython.display import display, Markdown\n",
    "from lyra.translator.translate import make_collection, imports\n",
    "\n",
    "from fundar import json\n",
    "from glob import glob\n",
    "from tqdm.auto import tqdm\n",
    "\n",
    "forms = glob('../data/*-form.json')\n",
    "\n",
    "def display_markdown(md):\n",
    "    display(Markdown(md))\n",
    "\n",
    "with open('lyra/cds_collections/cds_collections.py', 'w') as f:\n",
    "    f.write(imports)\n",
    "    for form in forms:\n",
    "        ast = parse_form(json.load(form))\n",
    "        collection_name = form.split('-form')[0].rsplit('/')[-1]\n",
    "\n",
    "        transformed_ast = sorted(set(transform_form(ast)))\n",
    "        \n",
    "        #display_str.append('\\n```')\n",
    "\n",
    "        f.write(make_collection(collection_name.replace('-', '_'), transformed_ast))"
   ]
  },
  {
   "cell_type": "code",
   "execution_count": 2,
   "metadata": {},
   "outputs": [],
   "source": [
    "from lyra.cds_collections import Collection_derived_era5_land_daily_statistics\n",
    "from inspect import signature"
   ]
  },
  {
   "cell_type": "code",
   "execution_count": 3,
   "metadata": {},
   "outputs": [
    {
     "data": {
      "text/plain": [
       "<Signature (month: str, year: str, variable: lyra.common.OneOrMore[str], day: lyra.common.OneOrMore[str], area_group: Union[lyra.common.FreeEditionType, lyra.common.GeographicExtentType] = 'global', daily_statistic: str = 'daily_mean', frequency: str = '1_hourly', time_zone: str = 'utc+00:00')>"
      ]
     },
     "execution_count": 3,
     "metadata": {},
     "output_type": "execute_result"
    }
   ],
   "source": [
    "signature(Collection_derived_era5_land_daily_statistics.download)"
   ]
  }
 ],
 "metadata": {
  "kernelspec": {
   "display_name": "Python 3",
   "language": "python",
   "name": "python3"
  },
  "language_info": {
   "codemirror_mode": {
    "name": "ipython",
    "version": 3
   },
   "file_extension": ".py",
   "mimetype": "text/x-python",
   "name": "python",
   "nbconvert_exporter": "python",
   "pygments_lexer": "ipython3",
   "version": "3.10.12"
  }
 },
 "nbformat": 4,
 "nbformat_minor": 2
}
